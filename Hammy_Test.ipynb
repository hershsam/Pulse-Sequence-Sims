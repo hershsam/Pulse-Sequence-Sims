{
 "cells": [
  {
   "cell_type": "code",
   "execution_count": 1,
   "id": "623c1533",
   "metadata": {},
   "outputs": [],
   "source": [
    "#Imports:\n",
    "import numpy as np\n",
    "from qutip import *"
   ]
  },
  {
   "cell_type": "code",
   "execution_count": 2,
   "id": "8ea8bb8b",
   "metadata": {},
   "outputs": [
    {
     "name": "stdout",
     "output_type": "stream",
     "text": [
      "Quantum object: dims=[[2], [2]], shape=(2, 2), type='oper', dtype=CSR, isherm=True\n",
      "Qobj data =\n",
      "[[0.  0.5]\n",
      " [0.5 0. ]] Quantum object: dims=[[2], [2]], shape=(2, 2), type='oper', dtype=CSR, isherm=True\n",
      "Qobj data =\n",
      "[[0.+0.j  0.-0.5j]\n",
      " [0.+0.5j 0.+0.j ]] Quantum object: dims=[[2], [2]], shape=(2, 2), type='oper', dtype=CSR, isherm=True\n",
      "Qobj data =\n",
      "[[ 0.5  0. ]\n",
      " [ 0.  -0.5]]\n"
     ]
    }
   ],
   "source": [
    "#Ops:\n",
    "def make_spin_ops(S):\n",
    "    sx = jmat(S, 'x')\n",
    "    sy = jmat(S, 'y')\n",
    "    sz = jmat(S, 'z')\n",
    "    return sx, sy, sz\n",
    "\n",
    "sx, sy, sz = make_spin_ops(0.5)\n",
    "print(sx, sy, sz)"
   ]
  },
  {
   "cell_type": "code",
   "execution_count": 3,
   "id": "5542c5b1",
   "metadata": {},
   "outputs": [],
   "source": [
    "def local_op(op, i, N, dim):\n",
    "    ops = [qeye(dim) for _ in range(N)]  \n",
    "    ops[i] = op                          \n",
    "    return tensor(ops)           \n",
    "\n",
    "def two_site_op(op1, i, op2, j, N, dim):\n",
    "    ops = [qeye(dim) for _ in range(N)]  \n",
    "    ops[i] = op1                         \n",
    "    ops[j] = op2                         \n",
    "    return tensor(ops)"
   ]
  },
  {
   "cell_type": "code",
   "execution_count": 4,
   "id": "b1d90442",
   "metadata": {},
   "outputs": [],
   "source": [
    "#Onsite Disorder Hamiltonian:\n",
    "def onsite_disorder(N, sz, h_d, disorder_type = \"gaussian\"):\n",
    "    dim = sz.shape[0]\n",
    "    H = 0\n",
    "    if disorder_type == \"gaussian\":\n",
    "        h_arr = np.random.normal(0, h_d, N)\n",
    "    elif disorder_type == \"uniform\":\n",
    "        h_arr = np.random.uniform(-h_d, h_d, N)\n",
    "    else:\n",
    "        raise ValueError(\"gaussian/uniform only\")\n",
    "    for i in range(N):\n",
    "        H += h_arr[i] * local_op(sz, i, N, dim)\n",
    "    return H\n",
    "        "
   ]
  },
  {
   "cell_type": "code",
   "execution_count": 5,
   "id": "14486792",
   "metadata": {},
   "outputs": [],
   "source": [
    "#Heisenberg Hamiltonian:\n",
    "def heisenberg_ham(N, sx, sy, sz, Jx = 0, Jy = 0, Jz = 1, periodic = False):\n",
    "    dim = sx.shape[0]\n",
    "    H = 0\n",
    "    for i in range((N-1)+ int(periodic)):\n",
    "        H += Jx * two_site_op(sx, i, sx, (i+1)%N, N, dim)\n",
    "        H += Jy * two_site_op(sy, i, sy, (i+1)%N, N, dim)\n",
    "        H += Jz * two_site_op(sz, i, sz, (i+1)%N, N, dim)\n",
    "    return H\n"
   ]
  },
  {
   "cell_type": "code",
   "execution_count": 6,
   "id": "fcbc61a5",
   "metadata": {},
   "outputs": [],
   "source": [
    "#Ising Hamiltonian :\n",
    "#Put h value if you want transverse field.\n",
    "def ising_ham(N, sz, sx, J = 1, h = 0, periodic = False):\n",
    "    dim = sz.shape[0]\n",
    "    H = 0\n",
    "    for i in range((N-1)+ int(periodic)):\n",
    "        H += J * two_site_op(sz, i, sz, (i+1)%N, N, dim)\n",
    "    for i in range(N):\n",
    "        H += h * local_op(sx, i, N, dim)\n",
    "    return H\n"
   ]
  },
  {
   "cell_type": "code",
   "execution_count": 7,
   "id": "a57c9a2c",
   "metadata": {},
   "outputs": [],
   "source": [
    "#Antisymmetric Hamiltonian:\n",
    "def dmi_ham(N, sx, sy, sz, D = 1, periodic = False):\n",
    "    dim = sx.shape[0]\n",
    "    H = 0\n",
    "    for i in range((N-1)+ int(periodic)):\n",
    "        H += D * (two_site_op(sx, i, sy, (i+1)%N, N, dim) - two_site_op(sy, i, sx, (i+1)%N, N, dim))\n",
    "    return H\n"
   ]
  },
  {
   "cell_type": "code",
   "execution_count": 8,
   "id": "53583c6f",
   "metadata": {},
   "outputs": [],
   "source": [
    "#Magnetization Evolution Setup:\n",
    "def magnetization_ops(N, sx, sy, sz, dim):\n",
    "    Sx_ops = [local_op(sx, i, N, dim) for i in range(N)]\n",
    "    Sy_ops = [local_op(sy, i, N, dim) for i in range(N)]\n",
    "    Sz_ops = [local_op(sz, i, N, dim) for i in range(N)]\n",
    "    return Sx_ops, Sy_ops, Sz_ops"
   ]
  },
  {
   "cell_type": "code",
   "execution_count": 9,
   "id": "8cc2216c",
   "metadata": {},
   "outputs": [],
   "source": [
    "def initial_state_all_up(N):\n",
    "    return tensor([basis(2,0) for _ in range(N)])  \n",
    "\n",
    "def initial_state_plus_x(N):\n",
    "    state_plus = (basis(2,0) + basis(2,1)).unit()\n",
    "    return tensor([state_plus for _ in range(N)])\n"
   ]
  },
  {
   "cell_type": "code",
   "execution_count": null,
   "id": "b90b6e5d",
   "metadata": {},
   "outputs": [],
   "source": [
    "def evolve_and_measure(H, psi0, tlist, Sx_ops, Sy_ops, Sz_ops):\n",
    "    result = sesolve(H, psi0, tlist, e_ops=Sx_ops+Sy_ops+Sz_ops)\n",
    "\n",
    "    N = len(Sx_ops)\n",
    "    Mx, My, Mz = [], [], []\n",
    "    for t_index in range(len(tlist)):\n",
    "        mx_t, my_t, mz_t = 0,0,0\n",
    "        for i in range(N):\n",
    "            mx_t += result.expect[i][t_index]\n",
    "            my_t += result.expect[i+N][t_index]\n",
    "            mz_t += result.expect[i+2*N][t_index]\n",
    "        Mx.append(mx_t/N)\n",
    "        My.append(my_t/N)\n",
    "        Mz.append(mz_t/N)\n",
    "    return np.array(Mx), np.array(My), np.array(Mz)\n"
   ]
  },
  {
   "cell_type": "code",
   "execution_count": 13,
   "id": "a55bf78e",
   "metadata": {},
   "outputs": [
    {
     "data": {
      "image/png": "[encoded data removed]",
      "text/plain": [
       "<Figure size 640x480 with 1 Axes>"
      ]
     },
     "metadata": {},
     "output_type": "display_data"
    }
   ],
   "source": [
    "import numpy as np\n",
    "import matplotlib.pyplot as plt\n",
    "\n",
    "S = 0.5\n",
    "sx, sy, sz = make_spin_ops(S)\n",
    "dim = int(2*S+1)\n",
    "\n",
    "N = 2\n",
    "H = ising_ham(N, sz, sx, J=1.0, h=0.5, periodic=False)\n",
    "\n",
    "Sx_ops, Sy_ops, Sz_ops = magnetization_ops(N, sx, sy, sz, dim)\n",
    "\n",
    "psi0 = initial_state_plus_x(N)\n",
    "\n",
    "tlist = np.linspace(0, 10, 200)\n",
    "\n",
    "Mx, My, Mz = evolve_and_measure(H, psi0, tlist, Sx_ops, Sy_ops, Sz_ops)\n",
    "\n",
    "plt.plot(tlist, Mx, label=\"Mx\")\n",
    "plt.plot(tlist, My, label=\"My\")\n",
    "plt.plot(tlist, Mz, label=\"Mz\")\n",
    "plt.legend(); plt.xlabel(\"t\"); plt.ylabel(\"Magnetization\"); plt.show()\n"
   ]
  },
  {
   "cell_type": "code",
   "execution_count": null,
   "id": "7f6fd29e",
   "metadata": {},
   "outputs": [],
   "source": []
  }
 ],
 "metadata": {
  "kernelspec": {
   "display_name": "base",
   "language": "python",
   "name": "python3"
  },
  "language_info": {
   "codemirror_mode": {
    "name": "ipython",
    "version": 3
   },
   "file_extension": ".py",
   "mimetype": "text/x-python",
   "name": "python",
   "nbconvert_exporter": "python",
   "pygments_lexer": "ipython3",
   "version": "3.11.7"
  }
 },
 "nbformat": 4,
 "nbformat_minor": 5
}
